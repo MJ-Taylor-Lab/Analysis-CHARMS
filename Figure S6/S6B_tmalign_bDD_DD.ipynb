{
 "cells": [
  {
   "cell_type": "code",
   "execution_count": 15,
   "metadata": {},
   "outputs": [],
   "source": [
    "import numpy as np\n",
    "from tmtools import tm_align\n",
    "from tmtools.io import get_structure, get_residue_data\n",
    "from tmtools.testing import get_pdb_path"
   ]
  },
  {
   "cell_type": "code",
   "execution_count": 18,
   "metadata": {},
   "outputs": [],
   "source": [
    "def tmalign_from_pdb(ref_pdb_path, pdb_path):\n",
    "    ref_structure = get_structure(ref_pdb_path)\n",
    "    structure = get_structure(pdb_path)\n",
    "    ref_coords, ref_seq = get_residue_data(ref_structure)\n",
    "    coords, seq = get_residue_data(structure)\n",
    "\n",
    "    res = tm_align(ref_coords, coords, ref_seq, seq)\n",
    "\n",
    "    return res.tm_norm_chain1, res.tm_norm_chain2, res.rmsd"
   ]
  },
  {
   "cell_type": "code",
   "execution_count": 21,
   "metadata": {},
   "outputs": [
    {
     "data": {
      "text/plain": [
       "(0.5798022055011062, 0.7757612640698918, 1.8647041754207168)"
      ]
     },
     "execution_count": 21,
     "metadata": {},
     "output_type": "execute_result"
    }
   ],
   "source": [
    "tmalign_from_pdb('DD_6I3N_K.pdb', 'BDLD_57_X.pdb')"
   ]
  }
 ],
 "metadata": {
  "kernelspec": {
   "display_name": "mda",
   "language": "python",
   "name": "python3"
  },
  "language_info": {
   "codemirror_mode": {
    "name": "ipython",
    "version": 3
   },
   "file_extension": ".py",
   "mimetype": "text/x-python",
   "name": "python",
   "nbconvert_exporter": "python",
   "pygments_lexer": "ipython3",
   "version": "3.8.18"
  }
 },
 "nbformat": 4,
 "nbformat_minor": 2
}
